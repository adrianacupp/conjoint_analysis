{
 "cells": [
  {
   "cell_type": "code",
   "execution_count": 1,
   "metadata": {},
   "outputs": [],
   "source": [
    "import pandas as pd\n",
    "import matplotlib.pyplot as plt\n",
    "import seaborn as sns"
   ]
  },
  {
   "cell_type": "markdown",
   "metadata": {},
   "source": [
    "## Load data"
   ]
  },
  {
   "cell_type": "code",
   "execution_count": 2,
   "metadata": {},
   "outputs": [],
   "source": [
    "data_path = '/Users/adrianacuppuleri/Library/Mobile Documents/com~apple~CloudDocs/GITHUB ADRIANA/conjoint_analysis/ExerciseAdriana/part1_data.csv'\n",
    "datamap_path = '/Users/adrianacuppuleri/Library/Mobile Documents/com~apple~CloudDocs/GITHUB ADRIANA/conjoint_analysis/ExerciseAdriana/part1_datamap.csv'"
   ]
  },
  {
   "cell_type": "code",
   "execution_count": 3,
   "metadata": {},
   "outputs": [],
   "source": [
    "datamap = pd.read_csv(datamap_path)\n",
    "data = pd.read_csv(data_path)"
   ]
  },
  {
   "cell_type": "code",
   "execution_count": 4,
   "metadata": {},
   "outputs": [
    {
     "name": "stdout",
     "output_type": "stream",
     "text": [
      "Data Map Preview:\n",
      "  Question ID Sub Question ID        Question Display       Question Type  \\\n",
      "0         CID             CID  Internal Respondent Id  Open text response   \n",
      "1         S01             S01    What is your gender?              Values   \n",
      "2         S01             S01    What is your gender?              Values   \n",
      "3         S01             S01    What is your gender?              Values   \n",
      "4         S01             S01    What is your gender?              Values   \n",
      "\n",
      "   Value ID            Value Text Sub Question Text  \n",
      "0       NaN                   NaN               NaN  \n",
      "1       1.0                Female               NaN  \n",
      "2       2.0                  Male               NaN  \n",
      "3       3.0                 Other               NaN  \n",
      "4      98.0  Prefer not to answer               NaN  \n"
     ]
    }
   ],
   "source": [
    "print(\"Data Map Preview:\")\n",
    "print(datamap.head())"
   ]
  },
  {
   "cell_type": "code",
   "execution_count": 5,
   "metadata": {},
   "outputs": [
    {
     "name": "stdout",
     "output_type": "stream",
     "text": [
      "\n",
      "Main Data Preview:\n",
      "         CID  Segment  MDScores_M01_1  MDScores_M01_2  MDScores_M01_3  \\\n",
      "0  672371701       22         0.18551         6.56302         0.60897   \n",
      "1  672371709       21         3.02223         8.80587         6.33921   \n",
      "2  672371721       17         0.76480         4.67550         1.81022   \n",
      "3  672371753       17         0.40041        10.33985         6.07727   \n",
      "4  672371754       10         1.21412        13.86520         5.78259   \n",
      "\n",
      "   MDScores_M01_4  MDScores_M01_5  MDScores_M01_6  MDScores_M01_7  \\\n",
      "0         1.10627         9.32762        14.72984         0.93471   \n",
      "1        15.10408         2.77632         6.37761         3.85486   \n",
      "2         6.18085        10.44179        10.79138         1.75908   \n",
      "3         2.14910         5.20120         4.25500         2.96840   \n",
      "4         3.08326         2.01262         5.99286         2.00611   \n",
      "\n",
      "   MDScores_M01_8  ...  S09_59  S09_999  S10  P02  P04a  P04b  P18a  P18b  \\\n",
      "0         2.05895  ...     NaN        0   44  404     1     2   2.0   6.0   \n",
      "1         2.43757  ...     NaN        0   44  402     1     4   2.0   8.0   \n",
      "2         0.36206  ...     NaN        0   45  403     1     4   2.0   3.0   \n",
      "3         1.47692  ...     NaN        0   44  403     1     2   1.0  97.0   \n",
      "4         2.22670  ...     NaN        0   36  202     1     2   2.0   3.0   \n",
      "\n",
      "   P05a  P06  \n",
      "0   NaN  3.0  \n",
      "1   2.0  1.0  \n",
      "2   2.0  3.0  \n",
      "3   NaN  1.0  \n",
      "4   1.0  1.0  \n",
      "\n",
      "[5 rows x 325 columns]\n"
     ]
    }
   ],
   "source": [
    "print(\"\\nMain Data Preview:\")\n",
    "print(data.head())"
   ]
  },
  {
   "cell_type": "markdown",
   "metadata": {},
   "source": [
    "## Classify Columns by Types"
   ]
  },
  {
   "cell_type": "code",
   "execution_count": 6,
   "metadata": {},
   "outputs": [
    {
     "data": {
      "text/plain": [
       "{'CID': 'Open text response',\n",
       " 'S01': 'Values',\n",
       " 'S02': 'Open numeric response',\n",
       " 'S03a': 'Values',\n",
       " 'S20': 'Values',\n",
       " 'S04b': 'Values',\n",
       " 'S05a': 'Values',\n",
       " 'S06': 'Values',\n",
       " 'S07': 'Values',\n",
       " 'S08': 'Values',\n",
       " 'S09': 'Values',\n",
       " 'S10': 'Values',\n",
       " 'P02': 'Values',\n",
       " 'P04a': 'Values',\n",
       " 'P04b': 'Values',\n",
       " 'P05a': 'Values',\n",
       " 'P06': 'Values',\n",
       " 'P18a': 'Values',\n",
       " 'P18b': 'Values',\n",
       " 'MDScores_M01': 'Open numeric response',\n",
       " 'MDScores_M02': 'Open numeric response',\n",
       " 'Segment': 'Values'}"
      ]
     },
     "execution_count": 6,
     "metadata": {},
     "output_type": "execute_result"
    }
   ],
   "source": [
    "#Map column types using 'Question ID' and 'Question Type' from datamap\n",
    "type_mapping = datamap[['Question ID', 'Question Type']].drop_duplicates().set_index('Question ID').to_dict()['Question Type']\n",
    "type_mapping"
   ]
  },
  {
   "cell_type": "code",
   "execution_count": 7,
   "metadata": {},
   "outputs": [],
   "source": [
    "#Separate columns in the main data file based on type mapping\n",
    "continuous_columns = [col for col in data.columns if type_mapping.get(col.split('_')[0], '') == 'Open numeric response']\n",
    "categorical_columns = [col for col in data.columns if type_mapping.get(col.split('_')[0], '') == 'Values']\n",
    "text_columns = [col for col in data.columns if type_mapping.get(col.split('_')[0], '') == 'Open text response']"
   ]
  },
  {
   "cell_type": "code",
   "execution_count": 8,
   "metadata": {},
   "outputs": [
    {
     "name": "stdout",
     "output_type": "stream",
     "text": [
      "Continuous Columns: ['S02_1']\n",
      "Categorical Columns: ['Segment', 'S01', 'S03a', 'S20', 'S04b_11', 'S04b_12', 'S04b_1', 'S04b_2', 'S04b_3', 'S04b_4', 'S04b_5', 'S04b_6', 'S04b_7', 'S04b_8', 'S04b_9', 'S04b_10', 'S05a_11', 'S05a_12', 'S05a_1', 'S05a_2', 'S05a_3', 'S05a_4', 'S05a_5', 'S05a_6', 'S05a_7', 'S05a_8', 'S05a_9', 'S05a_10', 'S06_1', 'S06_2', 'S06_3', 'S06_4', 'S06_5', 'S06_6', 'S06_7', 'S06_8', 'S06_9', 'S06_10', 'S06_11', 'S06_12', 'S06_13', 'S06_14', 'S06_15', 'S06_16', 'S06_17', 'S06_18', 'S06_19', 'S06_20', 'S06_21', 'S06_22', 'S06_23', 'S06_24', 'S06_25', 'S06_26', 'S06_27', 'S06_28', 'S06_29', 'S06_30', 'S06_31', 'S06_32', 'S06_33', 'S06_34', 'S06_35', 'S06_36', 'S06_37', 'S06_38', 'S06_39', 'S06_40', 'S06_41', 'S06_42', 'S06_43', 'S06_44', 'S06_45', 'S06_46', 'S06_47', 'S06_48', 'S06_49', 'S06_50', 'S06_51', 'S06_52', 'S06_53', 'S06_54', 'S06_55', 'S06_56', 'S06_57', 'S06_58', 'S06_59', 'S06_999', 'S07_1', 'S07_2', 'S07_3', 'S07_4', 'S07_5', 'S07_6', 'S07_7', 'S07_8', 'S07_9', 'S07_10', 'S07_11', 'S07_12', 'S07_13', 'S07_14', 'S07_15', 'S07_16', 'S07_17', 'S07_18', 'S07_19', 'S07_20', 'S07_21', 'S07_22', 'S07_23', 'S07_24', 'S07_25', 'S07_26', 'S07_27', 'S07_28', 'S07_29', 'S07_30', 'S07_31', 'S07_32', 'S07_33', 'S07_34', 'S07_35', 'S07_36', 'S07_37', 'S07_38', 'S07_39', 'S07_40', 'S07_41', 'S07_42', 'S07_43', 'S07_44', 'S07_45', 'S07_46', 'S07_47', 'S07_48', 'S07_49', 'S07_50', 'S07_51', 'S07_52', 'S07_53', 'S07_54', 'S07_55', 'S07_56', 'S07_57', 'S07_58', 'S07_59', 'S07_999', 'S08_1', 'S08_2', 'S08_3', 'S08_4', 'S08_5', 'S08_6', 'S08_7', 'S08_8', 'S08_9', 'S08_10', 'S08_11', 'S08_12', 'S08_13', 'S08_14', 'S08_15', 'S08_16', 'S08_17', 'S08_18', 'S08_19', 'S08_20', 'S08_21', 'S08_22', 'S08_23', 'S08_24', 'S08_25', 'S08_26', 'S08_27', 'S08_28', 'S08_29', 'S08_30', 'S08_31', 'S08_32', 'S08_33', 'S08_34', 'S08_35', 'S08_36', 'S08_37', 'S08_38', 'S08_39', 'S08_40', 'S08_41', 'S08_42', 'S08_43', 'S08_44', 'S08_45', 'S08_46', 'S08_47', 'S08_48', 'S08_49', 'S08_50', 'S08_51', 'S08_52', 'S08_53', 'S08_54', 'S08_55', 'S08_56', 'S08_57', 'S08_58', 'S08_59', 'S08_999', 'S09_1', 'S09_2', 'S09_3', 'S09_4', 'S09_5', 'S09_6', 'S09_7', 'S09_8', 'S09_9', 'S09_10', 'S09_11', 'S09_12', 'S09_13', 'S09_14', 'S09_15', 'S09_16', 'S09_17', 'S09_18', 'S09_19', 'S09_20', 'S09_21', 'S09_22', 'S09_23', 'S09_24', 'S09_25', 'S09_26', 'S09_27', 'S09_28', 'S09_29', 'S09_30', 'S09_31', 'S09_32', 'S09_33', 'S09_34', 'S09_35', 'S09_36', 'S09_37', 'S09_38', 'S09_39', 'S09_40', 'S09_41', 'S09_42', 'S09_43', 'S09_44', 'S09_45', 'S09_46', 'S09_47', 'S09_48', 'S09_49', 'S09_50', 'S09_51', 'S09_52', 'S09_53', 'S09_54', 'S09_55', 'S09_56', 'S09_57', 'S09_58', 'S09_59', 'S09_999', 'S10', 'P02', 'P04a', 'P04b', 'P18a', 'P18b', 'P05a', 'P06']\n",
      "Text Columns: ['CID']\n"
     ]
    }
   ],
   "source": [
    "print(\"Continuous Columns:\", continuous_columns)\n",
    "print(\"Categorical Columns:\", categorical_columns)\n",
    "print(\"Text Columns:\", text_columns)"
   ]
  },
  {
   "cell_type": "markdown",
   "metadata": {},
   "source": [
    "## Calculate Summary Statistics by Segment"
   ]
  },
  {
   "cell_type": "code",
   "execution_count": 9,
   "metadata": {},
   "outputs": [
    {
     "data": {
      "text/html": [
       "<div>\n",
       "<style scoped>\n",
       "    .dataframe tbody tr th:only-of-type {\n",
       "        vertical-align: middle;\n",
       "    }\n",
       "\n",
       "    .dataframe tbody tr th {\n",
       "        vertical-align: top;\n",
       "    }\n",
       "\n",
       "    .dataframe thead th {\n",
       "        text-align: right;\n",
       "    }\n",
       "</style>\n",
       "<table border=\"1\" class=\"dataframe\">\n",
       "  <thead>\n",
       "    <tr style=\"text-align: right;\">\n",
       "      <th></th>\n",
       "      <th>S02_1</th>\n",
       "    </tr>\n",
       "    <tr>\n",
       "      <th>Segment</th>\n",
       "      <th></th>\n",
       "    </tr>\n",
       "  </thead>\n",
       "  <tbody>\n",
       "    <tr>\n",
       "      <th>4</th>\n",
       "      <td>30.88</td>\n",
       "    </tr>\n",
       "    <tr>\n",
       "      <th>5</th>\n",
       "      <td>32.14</td>\n",
       "    </tr>\n",
       "    <tr>\n",
       "      <th>10</th>\n",
       "      <td>30.55</td>\n",
       "    </tr>\n",
       "    <tr>\n",
       "      <th>11</th>\n",
       "      <td>32.17</td>\n",
       "    </tr>\n",
       "    <tr>\n",
       "      <th>14</th>\n",
       "      <td>55.01</td>\n",
       "    </tr>\n",
       "    <tr>\n",
       "      <th>17</th>\n",
       "      <td>59.93</td>\n",
       "    </tr>\n",
       "    <tr>\n",
       "      <th>21</th>\n",
       "      <td>60.21</td>\n",
       "    </tr>\n",
       "    <tr>\n",
       "      <th>22</th>\n",
       "      <td>56.37</td>\n",
       "    </tr>\n",
       "  </tbody>\n",
       "</table>\n",
       "</div>"
      ],
      "text/plain": [
       "         S02_1\n",
       "Segment       \n",
       "4        30.88\n",
       "5        32.14\n",
       "10       30.55\n",
       "11       32.17\n",
       "14       55.01\n",
       "17       59.93\n",
       "21       60.21\n",
       "22       56.37"
      ]
     },
     "execution_count": 9,
     "metadata": {},
     "output_type": "execute_result"
    }
   ],
   "source": [
    "#Calculate mean for continuous variables by Segment\n",
    "continuous_summary = data.groupby('Segment')[continuous_columns].mean().round(2)\n",
    "continuous_summary"
   ]
  },
  {
   "cell_type": "code",
   "execution_count": 10,
   "metadata": {},
   "outputs": [],
   "source": [
    "#Calculate percentage for categorical variables by Segment\n",
    "categorical_summary_dfs = []\n",
    "\n",
    "for col in categorical_columns:\n",
    "    \n",
    "    if col != 'Segment':\n",
    "        summary = data.groupby('Segment')[col].value_counts(normalize=True).unstack(fill_value=0)\n",
    "        summary = summary.round(2)\n",
    "        summary.columns = [f\"{col}_{val}\" for val in summary.columns]  # Rename columns to include the original column name\n",
    "        categorical_summary_dfs.append(summary)"
   ]
  },
  {
   "cell_type": "code",
   "execution_count": 11,
   "metadata": {},
   "outputs": [],
   "source": [
    "# Concatenate all categorical summaries into a single DataFrame\n",
    "categorical_summary_df = pd.concat(categorical_summary_dfs, axis=1)"
   ]
  },
  {
   "cell_type": "code",
   "execution_count": 12,
   "metadata": {},
   "outputs": [
    {
     "name": "stdout",
     "output_type": "stream",
     "text": [
      "\n",
      "Improved Categorical Summary by Segment:\n"
     ]
    },
    {
     "data": {
      "text/html": [
       "<div>\n",
       "<style scoped>\n",
       "    .dataframe tbody tr th:only-of-type {\n",
       "        vertical-align: middle;\n",
       "    }\n",
       "\n",
       "    .dataframe tbody tr th {\n",
       "        vertical-align: top;\n",
       "    }\n",
       "\n",
       "    .dataframe thead th {\n",
       "        text-align: right;\n",
       "    }\n",
       "</style>\n",
       "<table border=\"1\" class=\"dataframe\">\n",
       "  <thead>\n",
       "    <tr style=\"text-align: right;\">\n",
       "      <th></th>\n",
       "      <th>S01_1</th>\n",
       "      <th>S01_2</th>\n",
       "      <th>S01_3</th>\n",
       "      <th>S03a_1</th>\n",
       "      <th>S03a_2</th>\n",
       "      <th>S03a_3</th>\n",
       "      <th>S03a_4</th>\n",
       "      <th>S03a_5</th>\n",
       "      <th>S03a_6</th>\n",
       "      <th>S03a_7</th>\n",
       "      <th>...</th>\n",
       "      <th>P05a_1.0</th>\n",
       "      <th>P05a_2.0</th>\n",
       "      <th>P05a_3.0</th>\n",
       "      <th>P05a_4.0</th>\n",
       "      <th>P05a_5.0</th>\n",
       "      <th>P05a_6.0</th>\n",
       "      <th>P05a_97.0</th>\n",
       "      <th>P06_1.0</th>\n",
       "      <th>P06_2.0</th>\n",
       "      <th>P06_3.0</th>\n",
       "    </tr>\n",
       "    <tr>\n",
       "      <th>Segment</th>\n",
       "      <th></th>\n",
       "      <th></th>\n",
       "      <th></th>\n",
       "      <th></th>\n",
       "      <th></th>\n",
       "      <th></th>\n",
       "      <th></th>\n",
       "      <th></th>\n",
       "      <th></th>\n",
       "      <th></th>\n",
       "      <th></th>\n",
       "      <th></th>\n",
       "      <th></th>\n",
       "      <th></th>\n",
       "      <th></th>\n",
       "      <th></th>\n",
       "      <th></th>\n",
       "      <th></th>\n",
       "      <th></th>\n",
       "      <th></th>\n",
       "      <th></th>\n",
       "    </tr>\n",
       "  </thead>\n",
       "  <tbody>\n",
       "    <tr>\n",
       "      <th>4</th>\n",
       "      <td>0.54</td>\n",
       "      <td>0.44</td>\n",
       "      <td>0.02</td>\n",
       "      <td>0.11</td>\n",
       "      <td>0.11</td>\n",
       "      <td>0.04</td>\n",
       "      <td>0.04</td>\n",
       "      <td>0.01</td>\n",
       "      <td>0.03</td>\n",
       "      <td>0.09</td>\n",
       "      <td>...</td>\n",
       "      <td>0.15</td>\n",
       "      <td>0.48</td>\n",
       "      <td>0.12</td>\n",
       "      <td>0.10</td>\n",
       "      <td>0.02</td>\n",
       "      <td>0.10</td>\n",
       "      <td>0.02</td>\n",
       "      <td>0.59</td>\n",
       "      <td>0.22</td>\n",
       "      <td>0.19</td>\n",
       "    </tr>\n",
       "    <tr>\n",
       "      <th>5</th>\n",
       "      <td>0.58</td>\n",
       "      <td>0.42</td>\n",
       "      <td>0.00</td>\n",
       "      <td>0.18</td>\n",
       "      <td>0.16</td>\n",
       "      <td>0.04</td>\n",
       "      <td>0.03</td>\n",
       "      <td>0.00</td>\n",
       "      <td>0.02</td>\n",
       "      <td>0.06</td>\n",
       "      <td>...</td>\n",
       "      <td>0.27</td>\n",
       "      <td>0.44</td>\n",
       "      <td>0.10</td>\n",
       "      <td>0.08</td>\n",
       "      <td>0.02</td>\n",
       "      <td>0.09</td>\n",
       "      <td>0.00</td>\n",
       "      <td>0.63</td>\n",
       "      <td>0.17</td>\n",
       "      <td>0.20</td>\n",
       "    </tr>\n",
       "    <tr>\n",
       "      <th>10</th>\n",
       "      <td>0.52</td>\n",
       "      <td>0.47</td>\n",
       "      <td>0.00</td>\n",
       "      <td>0.14</td>\n",
       "      <td>0.15</td>\n",
       "      <td>0.08</td>\n",
       "      <td>0.02</td>\n",
       "      <td>0.01</td>\n",
       "      <td>0.04</td>\n",
       "      <td>0.08</td>\n",
       "      <td>...</td>\n",
       "      <td>0.22</td>\n",
       "      <td>0.44</td>\n",
       "      <td>0.07</td>\n",
       "      <td>0.15</td>\n",
       "      <td>0.06</td>\n",
       "      <td>0.06</td>\n",
       "      <td>0.00</td>\n",
       "      <td>0.56</td>\n",
       "      <td>0.35</td>\n",
       "      <td>0.09</td>\n",
       "    </tr>\n",
       "    <tr>\n",
       "      <th>11</th>\n",
       "      <td>0.54</td>\n",
       "      <td>0.46</td>\n",
       "      <td>0.00</td>\n",
       "      <td>0.11</td>\n",
       "      <td>0.13</td>\n",
       "      <td>0.04</td>\n",
       "      <td>0.02</td>\n",
       "      <td>0.01</td>\n",
       "      <td>0.04</td>\n",
       "      <td>0.05</td>\n",
       "      <td>...</td>\n",
       "      <td>0.26</td>\n",
       "      <td>0.47</td>\n",
       "      <td>0.04</td>\n",
       "      <td>0.11</td>\n",
       "      <td>0.04</td>\n",
       "      <td>0.08</td>\n",
       "      <td>0.00</td>\n",
       "      <td>0.61</td>\n",
       "      <td>0.26</td>\n",
       "      <td>0.13</td>\n",
       "    </tr>\n",
       "    <tr>\n",
       "      <th>14</th>\n",
       "      <td>0.52</td>\n",
       "      <td>0.48</td>\n",
       "      <td>0.00</td>\n",
       "      <td>0.15</td>\n",
       "      <td>0.10</td>\n",
       "      <td>0.06</td>\n",
       "      <td>0.05</td>\n",
       "      <td>0.01</td>\n",
       "      <td>0.02</td>\n",
       "      <td>0.07</td>\n",
       "      <td>...</td>\n",
       "      <td>0.43</td>\n",
       "      <td>0.47</td>\n",
       "      <td>0.04</td>\n",
       "      <td>0.00</td>\n",
       "      <td>0.02</td>\n",
       "      <td>0.02</td>\n",
       "      <td>0.02</td>\n",
       "      <td>0.54</td>\n",
       "      <td>0.20</td>\n",
       "      <td>0.26</td>\n",
       "    </tr>\n",
       "  </tbody>\n",
       "</table>\n",
       "<p>5 rows × 739 columns</p>\n",
       "</div>"
      ],
      "text/plain": [
       "         S01_1  S01_2  S01_3  S03a_1  S03a_2  S03a_3  S03a_4  S03a_5  S03a_6  \\\n",
       "Segment                                                                        \n",
       "4         0.54   0.44   0.02    0.11    0.11    0.04    0.04    0.01    0.03   \n",
       "5         0.58   0.42   0.00    0.18    0.16    0.04    0.03    0.00    0.02   \n",
       "10        0.52   0.47   0.00    0.14    0.15    0.08    0.02    0.01    0.04   \n",
       "11        0.54   0.46   0.00    0.11    0.13    0.04    0.02    0.01    0.04   \n",
       "14        0.52   0.48   0.00    0.15    0.10    0.06    0.05    0.01    0.02   \n",
       "\n",
       "         S03a_7  ...  P05a_1.0  P05a_2.0  P05a_3.0  P05a_4.0  P05a_5.0  \\\n",
       "Segment          ...                                                     \n",
       "4          0.09  ...      0.15      0.48      0.12      0.10      0.02   \n",
       "5          0.06  ...      0.27      0.44      0.10      0.08      0.02   \n",
       "10         0.08  ...      0.22      0.44      0.07      0.15      0.06   \n",
       "11         0.05  ...      0.26      0.47      0.04      0.11      0.04   \n",
       "14         0.07  ...      0.43      0.47      0.04      0.00      0.02   \n",
       "\n",
       "         P05a_6.0  P05a_97.0  P06_1.0  P06_2.0  P06_3.0  \n",
       "Segment                                                  \n",
       "4            0.10       0.02     0.59     0.22     0.19  \n",
       "5            0.09       0.00     0.63     0.17     0.20  \n",
       "10           0.06       0.00     0.56     0.35     0.09  \n",
       "11           0.08       0.00     0.61     0.26     0.13  \n",
       "14           0.02       0.02     0.54     0.20     0.26  \n",
       "\n",
       "[5 rows x 739 columns]"
      ]
     },
     "execution_count": 12,
     "metadata": {},
     "output_type": "execute_result"
    }
   ],
   "source": [
    "print(\"\\nImproved Categorical Summary by Segment:\")\n",
    "#proportion of each category within each segment\n",
    "categorical_summary_df.head()"
   ]
  },
  {
   "cell_type": "markdown",
   "metadata": {},
   "source": [
    "## save crosstab as csv"
   ]
  },
  {
   "cell_type": "code",
   "execution_count": 13,
   "metadata": {},
   "outputs": [],
   "source": [
    "cross_tab = pd.concat([continuous_summary, categorical_summary_df], axis=1)"
   ]
  },
  {
   "cell_type": "code",
   "execution_count": 14,
   "metadata": {},
   "outputs": [
    {
     "data": {
      "text/html": [
       "<div>\n",
       "<style scoped>\n",
       "    .dataframe tbody tr th:only-of-type {\n",
       "        vertical-align: middle;\n",
       "    }\n",
       "\n",
       "    .dataframe tbody tr th {\n",
       "        vertical-align: top;\n",
       "    }\n",
       "\n",
       "    .dataframe thead th {\n",
       "        text-align: right;\n",
       "    }\n",
       "</style>\n",
       "<table border=\"1\" class=\"dataframe\">\n",
       "  <thead>\n",
       "    <tr style=\"text-align: right;\">\n",
       "      <th></th>\n",
       "      <th>S02_1</th>\n",
       "      <th>S01_1</th>\n",
       "      <th>S01_2</th>\n",
       "      <th>S01_3</th>\n",
       "      <th>S03a_1</th>\n",
       "      <th>S03a_2</th>\n",
       "      <th>S03a_3</th>\n",
       "      <th>S03a_4</th>\n",
       "      <th>S03a_5</th>\n",
       "      <th>S03a_6</th>\n",
       "      <th>...</th>\n",
       "      <th>P05a_1.0</th>\n",
       "      <th>P05a_2.0</th>\n",
       "      <th>P05a_3.0</th>\n",
       "      <th>P05a_4.0</th>\n",
       "      <th>P05a_5.0</th>\n",
       "      <th>P05a_6.0</th>\n",
       "      <th>P05a_97.0</th>\n",
       "      <th>P06_1.0</th>\n",
       "      <th>P06_2.0</th>\n",
       "      <th>P06_3.0</th>\n",
       "    </tr>\n",
       "    <tr>\n",
       "      <th>Segment</th>\n",
       "      <th></th>\n",
       "      <th></th>\n",
       "      <th></th>\n",
       "      <th></th>\n",
       "      <th></th>\n",
       "      <th></th>\n",
       "      <th></th>\n",
       "      <th></th>\n",
       "      <th></th>\n",
       "      <th></th>\n",
       "      <th></th>\n",
       "      <th></th>\n",
       "      <th></th>\n",
       "      <th></th>\n",
       "      <th></th>\n",
       "      <th></th>\n",
       "      <th></th>\n",
       "      <th></th>\n",
       "      <th></th>\n",
       "      <th></th>\n",
       "      <th></th>\n",
       "    </tr>\n",
       "  </thead>\n",
       "  <tbody>\n",
       "    <tr>\n",
       "      <th>4</th>\n",
       "      <td>30.88</td>\n",
       "      <td>0.54</td>\n",
       "      <td>0.44</td>\n",
       "      <td>0.02</td>\n",
       "      <td>0.11</td>\n",
       "      <td>0.11</td>\n",
       "      <td>0.04</td>\n",
       "      <td>0.04</td>\n",
       "      <td>0.01</td>\n",
       "      <td>0.03</td>\n",
       "      <td>...</td>\n",
       "      <td>0.15</td>\n",
       "      <td>0.48</td>\n",
       "      <td>0.12</td>\n",
       "      <td>0.10</td>\n",
       "      <td>0.02</td>\n",
       "      <td>0.10</td>\n",
       "      <td>0.02</td>\n",
       "      <td>0.59</td>\n",
       "      <td>0.22</td>\n",
       "      <td>0.19</td>\n",
       "    </tr>\n",
       "    <tr>\n",
       "      <th>5</th>\n",
       "      <td>32.14</td>\n",
       "      <td>0.58</td>\n",
       "      <td>0.42</td>\n",
       "      <td>0.00</td>\n",
       "      <td>0.18</td>\n",
       "      <td>0.16</td>\n",
       "      <td>0.04</td>\n",
       "      <td>0.03</td>\n",
       "      <td>0.00</td>\n",
       "      <td>0.02</td>\n",
       "      <td>...</td>\n",
       "      <td>0.27</td>\n",
       "      <td>0.44</td>\n",
       "      <td>0.10</td>\n",
       "      <td>0.08</td>\n",
       "      <td>0.02</td>\n",
       "      <td>0.09</td>\n",
       "      <td>0.00</td>\n",
       "      <td>0.63</td>\n",
       "      <td>0.17</td>\n",
       "      <td>0.20</td>\n",
       "    </tr>\n",
       "    <tr>\n",
       "      <th>10</th>\n",
       "      <td>30.55</td>\n",
       "      <td>0.52</td>\n",
       "      <td>0.47</td>\n",
       "      <td>0.00</td>\n",
       "      <td>0.14</td>\n",
       "      <td>0.15</td>\n",
       "      <td>0.08</td>\n",
       "      <td>0.02</td>\n",
       "      <td>0.01</td>\n",
       "      <td>0.04</td>\n",
       "      <td>...</td>\n",
       "      <td>0.22</td>\n",
       "      <td>0.44</td>\n",
       "      <td>0.07</td>\n",
       "      <td>0.15</td>\n",
       "      <td>0.06</td>\n",
       "      <td>0.06</td>\n",
       "      <td>0.00</td>\n",
       "      <td>0.56</td>\n",
       "      <td>0.35</td>\n",
       "      <td>0.09</td>\n",
       "    </tr>\n",
       "    <tr>\n",
       "      <th>11</th>\n",
       "      <td>32.17</td>\n",
       "      <td>0.54</td>\n",
       "      <td>0.46</td>\n",
       "      <td>0.00</td>\n",
       "      <td>0.11</td>\n",
       "      <td>0.13</td>\n",
       "      <td>0.04</td>\n",
       "      <td>0.02</td>\n",
       "      <td>0.01</td>\n",
       "      <td>0.04</td>\n",
       "      <td>...</td>\n",
       "      <td>0.26</td>\n",
       "      <td>0.47</td>\n",
       "      <td>0.04</td>\n",
       "      <td>0.11</td>\n",
       "      <td>0.04</td>\n",
       "      <td>0.08</td>\n",
       "      <td>0.00</td>\n",
       "      <td>0.61</td>\n",
       "      <td>0.26</td>\n",
       "      <td>0.13</td>\n",
       "    </tr>\n",
       "    <tr>\n",
       "      <th>14</th>\n",
       "      <td>55.01</td>\n",
       "      <td>0.52</td>\n",
       "      <td>0.48</td>\n",
       "      <td>0.00</td>\n",
       "      <td>0.15</td>\n",
       "      <td>0.10</td>\n",
       "      <td>0.06</td>\n",
       "      <td>0.05</td>\n",
       "      <td>0.01</td>\n",
       "      <td>0.02</td>\n",
       "      <td>...</td>\n",
       "      <td>0.43</td>\n",
       "      <td>0.47</td>\n",
       "      <td>0.04</td>\n",
       "      <td>0.00</td>\n",
       "      <td>0.02</td>\n",
       "      <td>0.02</td>\n",
       "      <td>0.02</td>\n",
       "      <td>0.54</td>\n",
       "      <td>0.20</td>\n",
       "      <td>0.26</td>\n",
       "    </tr>\n",
       "    <tr>\n",
       "      <th>17</th>\n",
       "      <td>59.93</td>\n",
       "      <td>0.52</td>\n",
       "      <td>0.48</td>\n",
       "      <td>0.00</td>\n",
       "      <td>0.12</td>\n",
       "      <td>0.18</td>\n",
       "      <td>0.04</td>\n",
       "      <td>0.04</td>\n",
       "      <td>0.01</td>\n",
       "      <td>0.02</td>\n",
       "      <td>...</td>\n",
       "      <td>0.18</td>\n",
       "      <td>0.65</td>\n",
       "      <td>0.02</td>\n",
       "      <td>0.08</td>\n",
       "      <td>0.01</td>\n",
       "      <td>0.05</td>\n",
       "      <td>0.01</td>\n",
       "      <td>0.58</td>\n",
       "      <td>0.18</td>\n",
       "      <td>0.24</td>\n",
       "    </tr>\n",
       "    <tr>\n",
       "      <th>21</th>\n",
       "      <td>60.21</td>\n",
       "      <td>0.59</td>\n",
       "      <td>0.41</td>\n",
       "      <td>0.00</td>\n",
       "      <td>0.11</td>\n",
       "      <td>0.12</td>\n",
       "      <td>0.02</td>\n",
       "      <td>0.04</td>\n",
       "      <td>0.00</td>\n",
       "      <td>0.04</td>\n",
       "      <td>...</td>\n",
       "      <td>0.21</td>\n",
       "      <td>0.62</td>\n",
       "      <td>0.01</td>\n",
       "      <td>0.06</td>\n",
       "      <td>0.00</td>\n",
       "      <td>0.09</td>\n",
       "      <td>0.01</td>\n",
       "      <td>0.61</td>\n",
       "      <td>0.18</td>\n",
       "      <td>0.21</td>\n",
       "    </tr>\n",
       "    <tr>\n",
       "      <th>22</th>\n",
       "      <td>56.37</td>\n",
       "      <td>0.40</td>\n",
       "      <td>0.59</td>\n",
       "      <td>0.01</td>\n",
       "      <td>0.15</td>\n",
       "      <td>0.14</td>\n",
       "      <td>0.02</td>\n",
       "      <td>0.04</td>\n",
       "      <td>0.01</td>\n",
       "      <td>0.02</td>\n",
       "      <td>...</td>\n",
       "      <td>0.26</td>\n",
       "      <td>0.58</td>\n",
       "      <td>0.03</td>\n",
       "      <td>0.05</td>\n",
       "      <td>0.03</td>\n",
       "      <td>0.03</td>\n",
       "      <td>0.00</td>\n",
       "      <td>0.59</td>\n",
       "      <td>0.27</td>\n",
       "      <td>0.14</td>\n",
       "    </tr>\n",
       "  </tbody>\n",
       "</table>\n",
       "<p>8 rows × 740 columns</p>\n",
       "</div>"
      ],
      "text/plain": [
       "         S02_1  S01_1  S01_2  S01_3  S03a_1  S03a_2  S03a_3  S03a_4  S03a_5  \\\n",
       "Segment                                                                       \n",
       "4        30.88   0.54   0.44   0.02    0.11    0.11    0.04    0.04    0.01   \n",
       "5        32.14   0.58   0.42   0.00    0.18    0.16    0.04    0.03    0.00   \n",
       "10       30.55   0.52   0.47   0.00    0.14    0.15    0.08    0.02    0.01   \n",
       "11       32.17   0.54   0.46   0.00    0.11    0.13    0.04    0.02    0.01   \n",
       "14       55.01   0.52   0.48   0.00    0.15    0.10    0.06    0.05    0.01   \n",
       "17       59.93   0.52   0.48   0.00    0.12    0.18    0.04    0.04    0.01   \n",
       "21       60.21   0.59   0.41   0.00    0.11    0.12    0.02    0.04    0.00   \n",
       "22       56.37   0.40   0.59   0.01    0.15    0.14    0.02    0.04    0.01   \n",
       "\n",
       "         S03a_6  ...  P05a_1.0  P05a_2.0  P05a_3.0  P05a_4.0  P05a_5.0  \\\n",
       "Segment          ...                                                     \n",
       "4          0.03  ...      0.15      0.48      0.12      0.10      0.02   \n",
       "5          0.02  ...      0.27      0.44      0.10      0.08      0.02   \n",
       "10         0.04  ...      0.22      0.44      0.07      0.15      0.06   \n",
       "11         0.04  ...      0.26      0.47      0.04      0.11      0.04   \n",
       "14         0.02  ...      0.43      0.47      0.04      0.00      0.02   \n",
       "17         0.02  ...      0.18      0.65      0.02      0.08      0.01   \n",
       "21         0.04  ...      0.21      0.62      0.01      0.06      0.00   \n",
       "22         0.02  ...      0.26      0.58      0.03      0.05      0.03   \n",
       "\n",
       "         P05a_6.0  P05a_97.0  P06_1.0  P06_2.0  P06_3.0  \n",
       "Segment                                                  \n",
       "4            0.10       0.02     0.59     0.22     0.19  \n",
       "5            0.09       0.00     0.63     0.17     0.20  \n",
       "10           0.06       0.00     0.56     0.35     0.09  \n",
       "11           0.08       0.00     0.61     0.26     0.13  \n",
       "14           0.02       0.02     0.54     0.20     0.26  \n",
       "17           0.05       0.01     0.58     0.18     0.24  \n",
       "21           0.09       0.01     0.61     0.18     0.21  \n",
       "22           0.03       0.00     0.59     0.27     0.14  \n",
       "\n",
       "[8 rows x 740 columns]"
      ]
     },
     "execution_count": 14,
     "metadata": {},
     "output_type": "execute_result"
    }
   ],
   "source": [
    "cross_tab"
   ]
  },
  {
   "cell_type": "code",
   "execution_count": 16,
   "metadata": {},
   "outputs": [],
   "source": [
    "cross_tab_pivot = cross_tab.T"
   ]
  },
  {
   "cell_type": "code",
   "execution_count": 17,
   "metadata": {},
   "outputs": [],
   "source": [
    "#save as c\n",
    "cross_tab_pivot.to_csv('cross_tab_part1.csv')"
   ]
  },
  {
   "cell_type": "markdown",
   "metadata": {},
   "source": [
    "##  Visualisations"
   ]
  },
  {
   "cell_type": "code",
   "execution_count": 18,
   "metadata": {},
   "outputs": [],
   "source": [
    "# Load the combined summary data\n",
    "cross_tab_pivot = pd.read_csv('cross_tab_part1.csv')\n",
    "\n",
    "# Set up plotting aesthetics\n",
    "plt.style.use('ggplot')"
   ]
  },
  {
   "cell_type": "code",
   "execution_count": 19,
   "metadata": {},
   "outputs": [
    {
     "data": {
      "image/png": "[encoded data removed]",
      "text/plain": [
       "<Figure size 720x432 with 1 Axes>"
      ]
     },
     "metadata": {},
     "output_type": "display_data"
    }
   ],
   "source": [
    "segment_counts = data.groupby('Segment').size()  # Count of respondents per segment\n",
    "\n",
    "# Bar plot for average age by segment (assuming S02_1 is age)\n",
    "plt.figure(figsize=(10, 6))\n",
    "ax = sns.barplot(x=cross_tab.index, y=cross_tab['S02_1'], palette=\"viridis\")\n",
    "\n",
    "# Add the count of respondents on top of each bar\n",
    "for index, (value, count) in enumerate(zip(cross_tab['S02_1'], segment_counts)):\n",
    "    ax.text(index, value + 1, f\"{count}\", ha='center', va='bottom')  # Adjust position as needed\n",
    "\n",
    "plt.title('Average Age by Segment with Respondent Counts')\n",
    "plt.xlabel('Segment')\n",
    "plt.ylabel('Average Age')\n",
    "plt.xticks(rotation=45)\n",
    "plt.show()"
   ]
  },
  {
   "cell_type": "code",
   "execution_count": 49,
   "metadata": {},
   "outputs": [
    {
     "data": {
      "image/png": "[encoded data removed]",
      "text/plain": [
       "<Figure size 720x432 with 1 Axes>"
      ]
     },
     "metadata": {},
     "output_type": "display_data"
    }
   ],
   "source": [
    "# Identify gender-related columns based on the mapping from the datamap\n",
    "gender_columns = ['S01_1', 'S01_2', 'S01_3'] # 'S01_98' not in dataset\n",
    "gender_labels = ['Female', 'Male', 'Other']\n",
    "\n",
    "# Plot a stacked bar chart for gender distribution by segment\n",
    "cross_tab[gender_columns].plot(kind='bar', stacked=True, figsize=(10, 6))\n",
    "plt.title('Gender Distribution by Segment')\n",
    "plt.xlabel('Segment')\n",
    "plt.ylabel('Proportion')\n",
    "plt.legend(gender_labels, title='Gender')\n",
    "plt.xticks(rotation=45)\n",
    "plt.show()"
   ]
  },
  {
   "cell_type": "code",
   "execution_count": 20,
   "metadata": {},
   "outputs": [],
   "source": [
    "region_columns = [f'S03a_{i}' for i in range(1, 17)]\n",
    "region_labels = [\n",
    "    'Baden-Württemberg', 'Bayern', 'Berlin', 'Brandenburg', 'Bremen', \n",
    "    'Hamburg', 'Hessen', 'Mecklenburg-Vorpommern', 'Niedersachsen', \n",
    "    'Nordrhein-Westfalen', 'Rheinland-Pfalz', 'Saarland', 'Sachsen', \n",
    "    'Sachsen-Anhalt', 'Schleswig-Holstein', 'Thüringen'\n",
    "]"
   ]
  },
  {
   "cell_type": "code",
   "execution_count": 21,
   "metadata": {},
   "outputs": [
    {
     "data": {
      "image/png": "[encoded data removed]",
      "text/plain": [
       "<Figure size 864x576 with 1 Axes>"
      ]
     },
     "metadata": {},
     "output_type": "display_data"
    }
   ],
   "source": [
    "# Plot a stacked bar chart for region distribution by segment\n",
    "cross_tab[region_columns].plot(kind='bar', stacked=True, figsize=(12, 8), colormap='tab20')\n",
    "plt.title('Region Distribution by Segment')\n",
    "plt.xlabel('Segment')\n",
    "plt.ylabel('Proportion')\n",
    "plt.legend(region_labels, title='Region', bbox_to_anchor=(1.05, 1), loc='upper left')\n",
    "plt.xticks(rotation=45)\n",
    "plt.tight_layout()\n",
    "plt.show()"
   ]
  },
  {
   "cell_type": "code",
   "execution_count": 22,
   "metadata": {},
   "outputs": [],
   "source": [
    "income_columns = ['S20_1', 'S20_2', 'S20_3', 'S20_4', 'S20_5', 'S20_6', 'S20_7', 'S20_98']\n",
    "income_labels = [\n",
    "    '< 24,000 €', '24,000 € - 32,999 €', '33,000 € - 41,999 €', '42,000 € - 76,999 €',\n",
    "    '77,000 € - 99,999 €', '100,000 € - 149,999 €', '150,000 € >=', 'Prefer not to answer'\n",
    "]"
   ]
  },
  {
   "cell_type": "code",
   "execution_count": 23,
   "metadata": {},
   "outputs": [
    {
     "data": {
      "image/png": "[encoded data removed]",
      "text/plain": [
       "<Figure size 864x576 with 1 Axes>"
      ]
     },
     "metadata": {},
     "output_type": "display_data"
    }
   ],
   "source": [
    "cross_tab[income_columns].plot(kind='bar', stacked=True, figsize=(12, 8), colormap='Set1')\n",
    "plt.title('Household Income Distribution by Segment')\n",
    "plt.xlabel('Segment')\n",
    "plt.ylabel('Proportion')\n",
    "plt.legend(income_labels, title='Household Income', bbox_to_anchor=(1.05, 1), loc='upper left')\n",
    "plt.xticks(rotation=45)\n",
    "plt.tight_layout()\n",
    "plt.show()"
   ]
  },
  {
   "cell_type": "markdown",
   "metadata": {},
   "source": [
    "## save as excel workbook"
   ]
  },
  {
   "cell_type": "code",
   "execution_count": 29,
   "metadata": {},
   "outputs": [
    {
     "name": "stdout",
     "output_type": "stream",
     "text": [
      "All data has been saved to 'part1_combined_workbook.xlsx' with each sheet containing the respective data.\n"
     ]
    }
   ],
   "source": [
    "with pd.ExcelWriter('part1_combined_workbook.xlsx') as writer:\n",
    "    data.to_csv(writer, sheet_name='Data', index=False)\n",
    "    datamap.to_csv(writer, sheet_name='DataMap', index=False)\n",
    "    cross_tab_pivot.to_csv(writer, sheet_name='CrossTab', index=False)\n",
    "\n",
    "print(\"All data has been saved to 'part1_combined_workbook.xlsx' with each sheet containing the respective data.\")"
   ]
  }
 ],
 "metadata": {
  "kernelspec": {
   "display_name": "book_env",
   "language": "python",
   "name": "book_env"
  },
  "language_info": {
   "codemirror_mode": {
    "name": "ipython",
    "version": 3
   },
   "file_extension": ".py",
   "mimetype": "text/x-python",
   "name": "python",
   "nbconvert_exporter": "python",
   "pygments_lexer": "ipython3",
   "version": "3.9.7"
  }
 },
 "nbformat": 4,
 "nbformat_minor": 2
}
